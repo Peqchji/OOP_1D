{
 "cells": [
  {
   "attachments": {},
   "cell_type": "markdown",
   "metadata": {},
   "source": [
    "1. เขียนฟังก์ชัน add_score(subject_score, subject, score) โดยมีพารามิเตอร์ 3 ตัว ได้แก่ subject_score\n",
    "เป็น dictionary ที่มีคู่ key : value เป็น subject : score พารามิเตอร์ตัวที่ 2 และ 3 เป็น subject และ\n",
    "score โดย subject เป็น string และ score เป็น integer โดยให้นํา subject และ score ไปเพิ่มใน\n",
    "dictionary เช่น\n",
    "Input : subject_score = { }, subject = ‘python’, score = 50\n",
    "return : { ‘python’ : 50 }\n",
    "input : subject_score = { ‘python’ : 50 }, subject = ‘calculus’, score = 60\n",
    "return : { ‘python’ : 50, ‘calculus : 60 }\n",
    "จากนั้นให้เขียนฟังก์ชัน calc_average_score หาค่าเฉลี่ยของคะแนนในทุกรายวิชาใน dictionary ที่ได้จาก\n",
    "ฟังก์ชัน add_score โดยให้ส่งค่าคืนมาเป็น string ที่มีทศนิยม 2 ตําแหน่ง"
   ]
  },
  {
   "cell_type": "code",
   "execution_count": 63,
   "metadata": {},
   "outputs": [
    {
     "data": {
      "text/plain": [
       "'55.00'"
      ]
     },
     "execution_count": 63,
     "metadata": {},
     "output_type": "execute_result"
    }
   ],
   "source": [
    "def add_score(subject_score, subject, score):\n",
    "    subject_score.update({subject: score})\n",
    "    return subject_score\n",
    "\n",
    "def calc_average_score(subject_score):\n",
    "    results = sum(subject_score.values()) / len(subject_score.values())\n",
    "    return str(f\"{results:.2f}\")\n",
    "\n",
    "\n",
    "calc_average_score(add_score({\"python\" : 50}, \"calculus\", 60))"
   ]
  },
  {
   "attachments": {},
   "cell_type": "markdown",
   "metadata": {},
   "source": [
    "2. ให้นําโปรแกรมตามข้อ 1 มาขยายความสามารถให้รองรับนักศึกษาหลายคน โดยให้ refactor ฟังก์ชัน\n",
    "add_score ให้รับพารามิเตอร์เป็น add_score(subject_score, student, subject, score) โดย student\n",
    "เป็นข้อมูลของนักศึกษาเป็น string (ในที่นี้เป็น id) และ return เป็น dictionary\n",
    "Input : subject_score = { }, student = '65010001', subject = 'python', score = 50\n",
    "return : { '65010001' : { 'python' : 50 } }\n",
    "input : subject_score = { '65010001' : { 'python' : 50 } },\n",
    "student = '65010001', subject = ‘calculus’, score = 60\n",
    "return : {'65010001': {'python’: 50, 'calculus', 60} }\n",
    "โดยหากชื่อมีข้อมูล key ใดที่มีใน dictionary อยู่แล้ว ให้ถือเป็นการ update ข้อมูลนั้น\n",
    "\n",
    "ให้ refactor ฟังก์ชัน calc_average_score โดยให้ส่งคืนเป็น dictionary ของนักศึกษาและคะแนนเฉลี่ย\n",
    "ของนักศึกษาคนนั้น เช่น {'65010001': '55.00' }"
   ]
  },
  {
   "cell_type": "code",
   "execution_count": 57,
   "metadata": {},
   "outputs": [
    {
     "data": {
      "text/plain": [
       "{'65010001': 110}"
      ]
     },
     "execution_count": 57,
     "metadata": {},
     "output_type": "execute_result"
    }
   ],
   "source": [
    "def add_score(subject_score, student, subject, score):\n",
    "    if(len(subject_score)):\n",
    "        subject_score[student].update({subject: score})\n",
    "    else:\n",
    "        subject_score.update({student: {subject: score}})\n",
    "\n",
    "    return subject_score\n",
    "\n",
    "def calc_average_score(subject_score):\n",
    "    results = {KEY : sum(VALUE.values()) for KEY, VALUE in subject_score.items()}\n",
    "    return results\n",
    "\n",
    "add_score(subject_score = { }, student = '65010001', subject = 'python', score = 50)\n",
    "calc_average_score(add_score(subject_score = { '65010001' : { 'python' : 50 } }, student = '65010001', subject = 'calculus', score = 60))"
   ]
  },
  {
   "attachments": {},
   "cell_type": "markdown",
   "metadata": {},
   "source": [
    "3. ให้เขียนฟังก์ชัน is_plusone_dictionary(d) โดยรับพารามิเตอร์ 1 ตัว เป็นข้อมูลชนิด dictionary และให้\n",
    "ทดสอบว่า dictionary ที่รับเข้ามาเป็น plusone dictionary หรือไม่ ผลลัพธ์ให้return เป็น True หรือ\n",
    "False โดย plusone dictionary คือ dictionary ที่ key และ value จะบวก 1 ต่อกันไปเรื่อยๆ\n",
    "\n",
    "Input : {1:2, 3:4, 5:6, 7:8}\n",
    "return : True\n",
    "อธิบาย : เพราะ key : value ต่างกันเป็น +1 ต่อกันไป\n",
    "Input : {1:2, 3:10, 5:6, 7:8}\n",
    "return : False\n",
    "อธิบาย : เพราะ key, value ไม่เป็นไปตามลําดับ"
   ]
  },
  {
   "cell_type": "code",
   "execution_count": 60,
   "metadata": {},
   "outputs": [
    {
     "data": {
      "text/plain": [
       "True"
      ]
     },
     "execution_count": 60,
     "metadata": {},
     "output_type": "execute_result"
    }
   ],
   "source": [
    "def is_plusone_dictionary(d):\n",
    "    temp = -1\n",
    "    for KEY, VALUE in d.items():\n",
    "        if(KEY + VALUE - temp == 4):\n",
    "            temp = KEY + VALUE\n",
    "        else:\n",
    "            return False\n",
    "    return True\n",
    "\n",
    "is_plusone_dictionary({1:2, 3:4, 5:6, 7:8})"
   ]
  },
  {
   "attachments": {},
   "cell_type": "markdown",
   "metadata": {},
   "source": [
    "4. เขียนฟังก์ชัน char_count(str) โดยรับพารามิเตอร์ 1 ตัว เป็นข้อมูลชนิด string และให้ส่งคืนเป็น\n",
    "dictionary ที่มี key เป็นตัวอักษรแต่ละตัวของ string นั้น และ value คือ จํานวนครั้งที่ตัวอักษรนั้นปรากฏ\n",
    "ใน string เช่น\n",
    "Input : 'language'\n",
    "return : {'l': 1, 'a': 2, 'n': 1, 'g': 2, 'e': 1}"
   ]
  },
  {
   "cell_type": "code",
   "execution_count": 62,
   "metadata": {},
   "outputs": [
    {
     "data": {
      "text/plain": [
       "{'l': 1, 'a': 2, 'n': 1, 'g': 2, 'u': 1, 'e': 1}"
      ]
     },
     "execution_count": 62,
     "metadata": {},
     "output_type": "execute_result"
    }
   ],
   "source": [
    "def char_count(str):\n",
    "    compressed_string = {i : str.count(i) for i in str}\n",
    "    return compressed_string\n",
    "\n",
    "char_count('language')"
   ]
  },
  {
   "attachments": {},
   "cell_type": "markdown",
   "metadata": {},
   "source": [
    "5. ข้อมูลต่อไปนี้แทน music album แต่ละ album เก็บใน dictionary ซึ่งมีตัวเลข id เป็น key โดยแต่ละ\n",
    "album ไม่จําเป็นต้องมีข้อมูลครบ\n",
    "\n",
    "record_collection = {\n",
    "                        2548: \n",
    "                            {\n",
    "                                albumTitle: 'Slippery When Wet',\n",
    "                                artist: 'Bon Jovi',\n",
    "                                tracks: ['Let It Rock', 'You Give Love a Bad Name']\n",
    "                            },\n",
    "                        2468: \n",
    "                            {\n",
    "                                albumTitle: '1999',\n",
    "                                artist: 'Prince',\n",
    "                                tracks: ['1999', 'Little Red Corvette']\n",
    "                            },\n",
    "                        1245:\n",
    "                            {\n",
    "                                artist: 'Robert Palmer',\n",
    "                                tracks: []\n",
    "                            },\n",
    "                        5439:\n",
    "                            {\n",
    "                                albumTitle: 'ABBA Gold'\n",
    "                            }\n",
    "                    }\n",
    "ให้เขียนฟังก์ชัน update_records โดยรับพารามิเตอร์ 4 ตัว คือ 1) dictionary record 2) id 3) property\n",
    "(เช่น artist หรือ tracks 4) value โดยหน้าที่ของฟังก์ชัน คือ ให้เพิ่ม/เปลี่ยน ค่า property และ value ของ\n",
    "album ของ id ที่ส่งค่าไปในฟังก์ชัน โดยมีรายละเอียดดังนี้\n",
    "• ฟังก์ชันจะต้องส่งคืนข้อมูล record ทั้งหมดกลับมา\n",
    "\n",
    "• ถ้า property ไม่ใช่ tracks และ value ไม่ใช่ empty string ให้ update หรือ set ข้อมูล property\n",
    "กับ value ใน album นั้น\n",
    "• ถ้า property เป็น tracks แต่ album นั้นไม่มี tracks property ให้สร้าง List ใหม่และเพิ่มข้อมูลเข้าไป\n",
    "ใน List นั้น\n",
    "• ถ้า property เป็น tracks และ value ไม่ใช่ empty string ให้เพิ่ม value ต่อท้ายใน List ของ tracks\n",
    "• ถ้า value เป็น empty string ให้ลบข้อมูล property นั้นออกจาก album"
   ]
  },
  {
   "cell_type": "code",
   "execution_count": 65,
   "metadata": {},
   "outputs": [
    {
     "data": {
      "text/plain": [
       "{2548: {'albumTitle': 'Slippery When Wet',\n",
       "  'artist': 'Bon Jovi',\n",
       "  'tracks': ['Let It Rock', 'You Give Love a Bad Name']},\n",
       " 2468: {},\n",
       " 1245: {'artist': 'Robert Palmer', 'tracks': []},\n",
       " 5439: {'albumTitle': 'ABBA Gold'}}"
      ]
     },
     "execution_count": 65,
     "metadata": {},
     "output_type": "execute_result"
    }
   ],
   "source": [
    "def update_records(dictionary_record, id, property, value):\n",
    "    if(not len(value)):\n",
    "        dictionary_record[id] = {}\n",
    "        return dictionary_record\n",
    "\n",
    "    elif(property.lower() == \"tracks\"):\n",
    "        if(\"tracks\" not in dictionary_record[id].keys()):\n",
    "            dictionary_record[id].update({\"tracks\" : []})\n",
    "        pass\n",
    "\n",
    "    record_key = dictionary_record.keys()\n",
    "    return dictionary_record\n",
    "\n",
    "update_records(dictionary_record = {\n",
    "                        2548: \n",
    "                            {\n",
    "                                \"albumTitle\": 'Slippery When Wet',\n",
    "                                \"artist\": 'Bon Jovi',\n",
    "                                \"tracks\": ['Let It Rock', 'You Give Love a Bad Name']\n",
    "                            },\n",
    "                        2468: \n",
    "                            {\n",
    "                                \"albumTitle\": '1999',\n",
    "                                \"artist\": 'Prince',\n",
    "                                \"tracks\": ['1999', 'Little Red Corvette']\n",
    "                            },\n",
    "                        1245:\n",
    "                            {\n",
    "                                \"artist\": 'Robert Palmer',\n",
    "                                \"tracks\": []\n",
    "                            },\n",
    "                        5439:\n",
    "                            {\n",
    "                                \"albumTitle\": 'ABBA Gold'\n",
    "                            }\n",
    "                    }, id = 2468,property= \"\", value= \"\")"
   ]
  }
 ],
 "metadata": {
  "kernelspec": {
   "display_name": "Python 3",
   "language": "python",
   "name": "python3"
  },
  "language_info": {
   "codemirror_mode": {
    "name": "ipython",
    "version": 3
   },
   "file_extension": ".py",
   "mimetype": "text/x-python",
   "name": "python",
   "nbconvert_exporter": "python",
   "pygments_lexer": "ipython3",
   "version": "3.10.5"
  },
  "orig_nbformat": 4,
  "vscode": {
   "interpreter": {
    "hash": "26de051ba29f2982a8de78e945f0abaf191376122a1563185a90213a26c5da77"
   }
  }
 },
 "nbformat": 4,
 "nbformat_minor": 2
}
