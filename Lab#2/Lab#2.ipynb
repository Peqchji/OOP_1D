{
 "cells": [
  {
   "attachments": {},
   "cell_type": "markdown",
   "metadata": {},
   "source": [
    "1. ให้เขียนโปรแกรมรับข้อมูล 1 บรรทัด ประกอบด้วยตัวเลข 1 หลัก จํานวนไม่เกิน 10 ตัว คั่นด้วยช่องว่าง\n",
    "จากนั้นให้นําตัวเลขที่รับเข้ามาเรียงกัน และหาลําดับการเรียงที่ทําให้มีค่าน้อยที่สุด โดยต้องไม่ขึ้นต้นด้วย 0\n",
    "Input : 9 4 6 2 คําตอบ 2469, Input : 3 0 8 1 3 3 คําตอบ : 103338"
   ]
  },
  {
   "cell_type": "code",
   "execution_count": 4,
   "metadata": {},
   "outputs": [
    {
     "name": "stdout",
     "output_type": "stream",
     "text": [
      "1789\n"
     ]
    }
   ],
   "source": [
    "num = [int(x) for x in input().split()]\n",
    "num = sorted(num)\n",
    "if not num[0]:\n",
    "    num[0], num[1] = num[1], num[0]\n",
    "print(*num, sep = '')"
   ]
  },
  {
   "attachments": {},
   "cell_type": "markdown",
   "metadata": {},
   "source": [
    "2. กําหนดให้ List x เก็บ String และตัวแปร c เก็บตัวอักษร\n",
    "ให้สร้าง List d ที่เก็บจํานวนครั้งที่ตัวอักษรใน c ปรากฏในแต่ละ String ของ List x โดยใช้ List\n",
    "comprehension\n",
    "– เช่น x = [‘abba’, ‘babana’, ‘ann’]; c = ‘a’\n",
    "– จะได้ d = [2, 3, 1]"
   ]
  },
  {
   "cell_type": "code",
   "execution_count": 3,
   "metadata": {},
   "outputs": [
    {
     "name": "stdout",
     "output_type": "stream",
     "text": [
      "[2, 3, 1]\n"
     ]
    }
   ],
   "source": [
    "x = ['abba', 'babana', 'ann']\n",
    "c = 'a'\n",
    "d = [str(char).count(c) for char in x]\n",
    "print(d)"
   ]
  },
  {
   "attachments": {},
   "cell_type": "markdown",
   "metadata": {},
   "source": [
    "3. กําหนดให้ List x เป็น List ของจํานวนเต็ม\n",
    "ให้เขียนโปรแกรมเพื่อลบจํานวนเต็มทุกตัวใน x ที่มีค่าเป็นลบ โดยใช้ List comprehension\n",
    "– เช่น x = [ [1, -3, 2], [-8, 5], [-1, -4, -3] ]\n",
    "– ได้คําตอบเป็น [ [1, 2], [5], [] ]"
   ]
  },
  {
   "cell_type": "code",
   "execution_count": 14,
   "metadata": {},
   "outputs": [
    {
     "name": "stdout",
     "output_type": "stream",
     "text": [
      "[[1, 2], [5], []]\n"
     ]
    }
   ],
   "source": [
    "x = [ [1, -3, 2], [-8, 5], [-1, -4, -3] ]\n",
    "results = [[num for num in num_list if int(num) >= 0] for num_list in x]\n",
    "print(results)"
   ]
  },
  {
   "attachments": {},
   "cell_type": "markdown",
   "metadata": {},
   "source": [
    "4. ให้เขียนโปรแกรมเพื่อรับข้อมูล 1 บรรทัด ที่ประกอบด้วยจํานวนเต็มหลายจํานวน (คั่นด้วยช่องว่าง)\n",
    "ให้ส่งคืนว่ามีจํานวนที่เป็นลบกี่จํานวน โดยใช้ List comprehension\n",
    "ให้เขียนในฟังก์ชัน count_minus(str) แล้ว return เป็นคําตอบ"
   ]
  },
  {
   "cell_type": "code",
   "execution_count": 12,
   "metadata": {},
   "outputs": [
    {
     "name": "stdout",
     "output_type": "stream",
     "text": [
      "3\n"
     ]
    }
   ],
   "source": [
    "def count_minus(number: str):\n",
    "    sequence = [int(x) for x in number.split() if int(x) < 0]\n",
    "    return len(sequence)\n",
    "\n",
    "def main():\n",
    "    print(count_minus(str(input())))\n",
    "\n",
    "if __name__ == \"__main__\":\n",
    "    main()"
   ]
  },
  {
   "attachments": {},
   "cell_type": "markdown",
   "metadata": {},
   "source": [
    "5. ให้เขียนโปรแกรมเพื่อรับ string 1 ตัว\n",
    "ให้ส่งคืนเฉพาะตัวอักษรที่เป็นภาษาอังกฤษ โดยใช้ List comprehension\n",
    "ให้เขียนในฟังก์ชัน only_english(string1) แล้ว return เป็นคําตอบเป็น string"
   ]
  },
  {
   "cell_type": "code",
   "execution_count": 63,
   "metadata": {},
   "outputs": [],
   "source": [
    "def only_english(string1):\n",
    "    results = ''.join([ char for char in string1 if char.isalpha() and char.isascii()])\n",
    "    return str(results)"
   ]
  },
  {
   "attachments": {},
   "cell_type": "markdown",
   "metadata": {},
   "source": [
    "6. กําหนดให้ list x และ y เป็น list ของจํานวนเต็ม โดยมีขนาดเท่ากัน\n",
    "ให้ return list ที่เป็นผลบวกของ list x และ y โดยใช้ list comprehension\n",
    "ให้เขียนในฟังก์ชัน function ชื่อ add2list(lst1,lst2)"
   ]
  },
  {
   "cell_type": "code",
   "execution_count": 19,
   "metadata": {},
   "outputs": [
    {
     "name": "stdout",
     "output_type": "stream",
     "text": [
      "[3]\n"
     ]
    }
   ],
   "source": [
    "def add2list(lst1, lst2):\n",
    "    results = [Var1 + Var2 for Var1, Var2 in zip(lst1, lst2)]\n",
    "    return results\n",
    "print(add2list([1], [2]))"
   ]
  },
  {
   "attachments": {},
   "cell_type": "markdown",
   "metadata": {},
   "source": [
    "7. ให้เขียน function ชื่อ day_of_year(day, month ,year)\n",
    "โดยมีการคืนค่า คือ day_of_years เป็นวันที่ลําดับที่เท่าใดของปีคริสตศักราช year\n",
    "– ปีที่เป็น Leap Year เดือนกุมภาพันธ์จะมี 29 วัน\n",
    "– ให้สร้างฟังก์ชัน is_leap เพื่อตรวจสอบ leap year แยกออกมา และให้ฟังก์ชัน day_of_year\n",
    "เรียกใช้ is_leap อีกที"
   ]
  },
  {
   "cell_type": "code",
   "execution_count": 50,
   "metadata": {},
   "outputs": [
    {
     "data": {
      "text/plain": [
       "60"
      ]
     },
     "execution_count": 50,
     "metadata": {},
     "output_type": "execute_result"
    }
   ],
   "source": [
    "\n",
    "\"\"\"method 1\n",
    "from datetime import date\n",
    "def day_of_year(day, month ,year):\n",
    "    day_results = date(year, month, day).timetuple().tm_yday\n",
    "    return day_results\n",
    "\"\"\"\n",
    "\n",
    "#method 2\n",
    "def day_of_year(day, month ,year):\n",
    "    results: int = 0\n",
    "    month_31_day = [1, 3, 5, 7, 8, 10, 12]\n",
    "    month_30_day = [4, 6, 9, 11]\n",
    "\n",
    "    for i in range(month - 1, 0, -1):\n",
    "        if(i in month_30_day):\n",
    "            results += 30\n",
    "        elif(i in month_31_day):\n",
    "            results += 31\n",
    "        else:\n",
    "            results += 28 + int(is_leap(year))\n",
    "    results += day\n",
    "    return results\n",
    "\n",
    "def is_leap(year):\n",
    "    return year % 4 == 0 and (year % 400 == 0 or year % 100 != 0)\n",
    "    \n",
    "day_of_year(29, 2, 2023)"
   ]
  },
  {
   "attachments": {},
   "cell_type": "markdown",
   "metadata": {},
   "source": [
    "8. จากโปรแกรมในข้อ 7 ให้เขียนฟังก์ชัน เพิ่มเติมเป็น date_diff\n",
    "– รับข้อมูลในรูปแบบ “dd-mm-yyyy” เช่น\n",
    "\n",
    "date_diff(“1-1-2018”, “1-1-2020”) จะได้ 731 วัน\n",
    "date_diff(“25-12-1999”, “9-3-2000”) จะได้ 76 วัน\n",
    "– ให้เขียนฟังก์ชัน day_in_year โดยจะส่งค่าจํานวนวันของปี (365 หรือ 366) โดยรับข้อมูลเป็น ปี\n",
    "– ส่งคืนข้อมูลเป็นจํานวนวันตั้งแต่วันที่แรก จนถึงวันที่สอง โดยรวมทั้ง 2 วันนั้นเข้าไปด้วย\n",
    "– ให้สมมติว่าวันแรก จะต้องมาก่อนวันที่สองเสมอ ดังนั้นไม่ต้องตรวจสอบ\n"
   ]
  },
  {
   "cell_type": "code",
   "execution_count": 59,
   "metadata": {},
   "outputs": [
    {
     "data": {
      "text/plain": [
       "731"
      ]
     },
     "execution_count": 59,
     "metadata": {},
     "output_type": "execute_result"
    }
   ],
   "source": [
    "def date_diff(date_1, date_2):\n",
    "    results: int = 0\n",
    "    day_date_1, month_date_1, year_date_1 = [int(ddmmyy) for ddmmyy in date_1.split(\"-\")]\n",
    "    day_date_2, month_date_2, year_date_2 = [int(ddmmyy) for ddmmyy in date_2.split(\"-\")]\n",
    "    same_year = (year_date_1 == year_date_2)\n",
    "\n",
    "    for i in range(year_date_2 - 1, year_date_1, -1):\n",
    "        results += day_in_year(i)\n",
    "\n",
    "    results +=  day_of_year(day_date_2, month_date_2, year_date_2) + day_in_year(year_date_1 ) - day_of_year(day_date_1, month_date_1, year_date_1) + 1 - (int(same_year) * (day_in_year(year_date_1) + 1))\n",
    "\n",
    "    return results\n",
    "\n",
    "def day_in_year(year):\n",
    "    results: int = 0\n",
    "    if( is_leap( year)):\n",
    "        results = 366\n",
    "    else:\n",
    "        results = 365\n",
    "    return results\n",
    "\n",
    "def day_of_year(day, month ,year):\n",
    "    results: int = 0\n",
    "    month_31_day = [1, 3, 5, 7, 8, 10, 12]\n",
    "    month_30_day = [4, 6, 9, 11]\n",
    "\n",
    "    for i in range(month - 1, 0, -1):\n",
    "        if(i in month_30_day):\n",
    "            results += 30\n",
    "        elif(i in month_31_day):\n",
    "            results += 31\n",
    "        else:\n",
    "            results += 28 + int(is_leap(year))\n",
    "    results += day\n",
    "    return results\n",
    "\n",
    "def is_leap(year):\n",
    "    return year % 4 == 0 and (year % 400 == 0 or year % 100 != 0)\n",
    "    \n",
    "\n",
    "date_diff(\"1-1-2018\", \"1-1-2020\")"
   ]
  },
  {
   "attachments": {},
   "cell_type": "markdown",
   "metadata": {},
   "source": [
    "9. จากโปรแกรมในข้อ 8 ให้เขียนฟังก์ชัน date_diff เพิ่มเติม โดยให้มีการตรวจสอบ\n",
    "– วันที่ต้องเป็นวันที่ถูกต้องของเดือนนั้นๆ\n",
    "– เดือนต้องอยู่ระหว่าง 1-12\n",
    "– เดือนกุมภาพันธ์ของปีที่มี Leap Year เท่านั้นที่จะมี 29 วันได้\n",
    "– หากข้อมูล Input ผิดพลาด ให้ Return -1"
   ]
  },
  {
   "cell_type": "code",
   "execution_count": 62,
   "metadata": {},
   "outputs": [],
   "source": [
    "day_in_month = [31, 28, 31, 30, 31, 30, 31, 31, 30 ,31, 30 ,31]\n",
    "def date_diff(date_1, date_2):\n",
    "    results: int = 0\n",
    "    day_date_1, month_date_1, year_date_1 = [int(ddmmyy) for ddmmyy in date_1.split(\"-\")]\n",
    "    day_date_2, month_date_2, year_date_2 = [int(ddmmyy) for ddmmyy in date_2.split(\"-\")]\n",
    "\n",
    "    leaping_1 = is_leap(year_date_1)\n",
    "    leaping_2 = is_leap(year_date_2)\n",
    "\n",
    "    if(month_date_1 > 12 or month_date_2 > 12) or\\\n",
    "      (not leaping_1 and month_date_1 == 2 and day_date_1 == 29 ) or\\\n",
    "      (not leaping_2 and month_date_1 == 2 and day_date_2 == 29 ) or\\\n",
    "      (day_date_1 > day_in_month[month_date_1 - 1] + 1 * int(leaping_1 and month_date_1 == 2)) or\\\n",
    "      (day_date_2 > day_in_month[month_date_2 - 1] + 1 * int(leaping_1 and month_date_1 == 2)):\n",
    "      return -1\n",
    "  \n",
    "    same_year = (year_date_1 == year_date_2)\n",
    "\n",
    "    for i in range(year_date_2 - 1, year_date_1, -1):\n",
    "        results += day_in_year(i)\n",
    "\n",
    "    results +=  day_of_year(day_date_2, month_date_2, year_date_2) + day_in_year(year_date_1 ) - day_of_year(day_date_1, month_date_1, year_date_1) + 1 - (int(same_year) * (day_in_year(year_date_1) + 1))\n",
    "\n",
    "    return results\n",
    "\n",
    "def day_in_year(year):\n",
    "    results: int = 0\n",
    "    if( is_leap( year)):\n",
    "        results = 366\n",
    "    else:\n",
    "        results = 365\n",
    "    return results\n",
    "\n",
    "def day_of_year(day, month ,year):\n",
    "    results: int = 0\n",
    "    month_31_day = [1, 3, 5, 7, 8, 10, 12]\n",
    "    month_30_day = [4, 6, 9, 11]\n",
    "\n",
    "    for i in range(month - 1, 0, -1):\n",
    "        if(i in month_30_day):\n",
    "            results += 30\n",
    "        elif(i in month_31_day):\n",
    "            results += 31\n",
    "        else:\n",
    "            results += 28 + int(is_leap(year))\n",
    "    results += day\n",
    "    return results\n",
    "\n",
    "def is_leap(year):\n",
    "    return year % 4 == 0 and (year % 400 == 0 or year % 100 != 0)"
   ]
  }
 ],
 "metadata": {
  "kernelspec": {
   "display_name": "Python 3",
   "language": "python",
   "name": "python3"
  },
  "language_info": {
   "codemirror_mode": {
    "name": "ipython",
    "version": 3
   },
   "file_extension": ".py",
   "mimetype": "text/x-python",
   "name": "python",
   "nbconvert_exporter": "python",
   "pygments_lexer": "ipython3",
   "version": "3.10.5 (tags/v3.10.5:f377153, Jun  6 2022, 16:14:13) [MSC v.1929 64 bit (AMD64)]"
  },
  "orig_nbformat": 4,
  "vscode": {
   "interpreter": {
    "hash": "26de051ba29f2982a8de78e945f0abaf191376122a1563185a90213a26c5da77"
   }
  }
 },
 "nbformat": 4,
 "nbformat_minor": 2
}
